{
 "cells": [
  {
   "cell_type": "code",
   "execution_count": 1,
   "metadata": {},
   "outputs": [
    {
     "data": {
      "text/html": [
       "<pre style=\"white-space:pre;overflow-x:auto;line-height:normal;font-family:Menlo,'DejaVu Sans Mono',consolas,'Courier New',monospace\"><span style=\"color: #000080; text-decoration-color: #000080; font-weight: bold\">Connected to Predibase as </span><span style=\"color: #800080; text-decoration-color: #800080; font-weight: bold\">User</span><span style=\"color: #000080; text-decoration-color: #000080; font-weight: bold\">(</span><span style=\"color: #808000; text-decoration-color: #808000; font-weight: bold\">id</span><span style=\"color: #000080; text-decoration-color: #000080; font-weight: bold\">=</span><span style=\"color: #ffff00; text-decoration-color: #ffff00\">b5555c02</span><span style=\"color: #ffff00; text-decoration-color: #ffff00\">-4e64-48dd-b993-2f03a91a605d</span><span style=\"color: #000080; text-decoration-color: #000080; font-weight: bold\">, </span><span style=\"color: #808000; text-decoration-color: #808000; font-weight: bold\">username</span><span style=\"color: #000080; text-decoration-color: #000080; font-weight: bold\">=</span><span style=\"color: #800080; text-decoration-color: #800080; font-weight: bold\">sehoonpark</span><span style=\"color: #000080; text-decoration-color: #000080; font-weight: bold\">@hanyang.ac.kr)</span>\n",
       "</pre>\n"
      ],
      "text/plain": [
       "\u001b[1;34mConnected to Predibase as \u001b[0m\u001b[1;35mUser\u001b[0m\u001b[1;34m(\u001b[0m\u001b[1;33mid\u001b[0m\u001b[1;34m=\u001b[0m\u001b[93mb5555c02\u001b[0m\u001b[93m-4e64-48dd-b993-2f03a91a605d\u001b[0m\u001b[1;34m, \u001b[0m\u001b[1;33musername\u001b[0m\u001b[1;34m=\u001b[0m\u001b[1;35msehoonpark\u001b[0m\u001b[1;34m@hanyang.ac.kr\u001b[0m\u001b[1;34m)\u001b[0m\n"
      ]
     },
     "metadata": {},
     "output_type": "display_data"
    }
   ],
   "source": [
    "from predibase import Predibase, FinetuningConfig, DeploymentConfig\n",
    "\n",
    "pb = Predibase(api_token=\"각자 API입력\")\n",
    "# https://app.predibase.com/"
   ]
  },
  {
   "cell_type": "code",
   "execution_count": 3,
   "metadata": {},
   "outputs": [],
   "source": [
    "dataset = pb.datasets.from_file(\"./dataset/dataset.jsonl\", name=\"medicine_dataset\")"
   ]
  },
  {
   "cell_type": "code",
   "execution_count": 4,
   "metadata": {},
   "outputs": [
    {
     "name": "stdout",
     "output_type": "stream",
     "text": [
      "Successfully requested finetuning of solar-1-mini-chat-240612 as `medicine_suggest-model/1`. (Job UUID: d7b36cb4-ee59-4150-aec8-88965bc41e6c).\n",
      "\n",
      "Watching progress of finetuning job d7b36cb4-ee59-4150-aec8-88965bc41e6c. This call will block until the job has finished. Canceling or terminating this call will NOT cancel or terminate the job itself.\n",
      "\n",
      "Job is starting. Total queue time: 0:00:46         \n",
      "Waiting to receive training metrics...\n",
      "\n",
      "┌────────────┬────────────┬─────────────────┐\n",
      "│ checkpoint \u001b[0m│ train_loss \u001b[0m│ validation_loss \u001b[0m│\n",
      "├────────────┼────────────┼─────────────────┤\n",
      "│     1      \u001b[0m│   0.9765   \u001b[0m│        --       \u001b[0m│\n",
      "│     2      \u001b[0m│   1.0895   \u001b[0m│        --       \u001b[0m│\n",
      "│     3      \u001b[0m│   0.6226   \u001b[0m│        --       \u001b[0m│\n",
      "└────────────┴────────────┴─────────────────┘\n"
     ]
    }
   ],
   "source": [
    "# Create an adapter repository\n",
    "repo = pb.repos.create(name=\"medicine_suggest-model\", description=\"medicine suggetion chatbot\", exists_ok=True)\n",
    "\n",
    "# Start a fine-tuning job, blocks until training is finished\n",
    "adapter = pb.adapters.create(\n",
    "    config=FinetuningConfig(\n",
    "        base_model=\"solar-1-mini-chat-240612\"\n",
    "    ),\n",
    "    dataset=dataset, # Also accepts the dataset name as a string\n",
    "    repo=repo,\n",
    "    description=\"initial model with defaults\"\n",
    ")"
   ]
  },
  {
   "cell_type": "code",
   "execution_count": 5,
   "metadata": {},
   "outputs": [
    {
     "data": {
      "text/plain": [
       "Adapter(repo='medicine_suggest-model', tag=1, archived=False, base_model='solar-1-mini-chat-240612', description='initial model with defaults', artifact_path='d7b36cb4-ee59-4150-aec8-88965bc41e6c/2c32e461fb794286b36b69a9f21b13f2/artifacts/model/model_weights', finetuning_error=None, finetuning_job_uuid='d7b36cb4-ee59-4150-aec8-88965bc41e6c')"
      ]
     },
     "execution_count": 5,
     "metadata": {},
     "output_type": "execute_result"
    }
   ],
   "source": [
    "# Get adapter, blocking call if training is still in progress\n",
    "adapter = pb.adapters.get(\"medicine_suggest-model/1\")\n",
    "adapter"
   ]
  },
  {
   "cell_type": "code",
   "execution_count": 6,
   "metadata": {},
   "outputs": [
    {
     "ename": "NotFoundError",
     "evalue": "",
     "output_type": "error",
     "traceback": [
      "\u001b[0;31m---------------------------------------------------------------------------\u001b[0m",
      "\u001b[0;31mNotFoundError\u001b[0m                             Traceback (most recent call last)",
      "Cell \u001b[0;32mIn[6], line 3\u001b[0m\n\u001b[1;32m      1\u001b[0m \u001b[39m# Specify the deployment by name\u001b[39;00m\n\u001b[1;32m      2\u001b[0m lorax_client \u001b[39m=\u001b[39m pb\u001b[39m.\u001b[39mdeployments\u001b[39m.\u001b[39mclient(\u001b[39m\"\u001b[39m\u001b[39mmedicine_suggest-model\u001b[39m\u001b[39m\"\u001b[39m)\n\u001b[0;32m----> 3\u001b[0m \u001b[39mprint\u001b[39m(lorax_client\u001b[39m.\u001b[39;49mgenerate(\u001b[39m\"\"\"\u001b[39;49m\u001b[39m<<SYS>>You are a helpful, respectful and honest assistant. Always answer as helpfully as possible, while being safe. Your answers should not include any harmful, unethical, racist, sexist, toxic, dangerous, or illegal content. Please ensure that your responses are socially unbiased and positive in nature. If a question does not make any sense, or is not factually coherent, explain why instead of answering something not correct. If you don\u001b[39;49m\u001b[39m'\u001b[39;49m\u001b[39mt know the answer to a question, please don\u001b[39;49m\u001b[39m'\u001b[39;49m\u001b[39mt share false information.<</SYS>>\u001b[39;49m\n\u001b[1;32m      4\u001b[0m \n\u001b[1;32m      5\u001b[0m \u001b[39m[INST] 벤포벨에스정의 효능은 무엇입니까? [/INST]\u001b[39;49m\u001b[39m\"\"\"\u001b[39;49m, max_new_tokens\u001b[39m=\u001b[39;49m\u001b[39m100\u001b[39;49m)\u001b[39m.\u001b[39mgenerated_text)\n",
      "File \u001b[0;32m/opt/homebrew/anaconda3/envs/LLM/lib/python3.10/site-packages/predibase/resources/deployments.py:162\u001b[0m, in \u001b[0;36m_make_generate.<locals>._lorax_generate\u001b[0;34m(self, *args, **kwargs)\u001b[0m\n\u001b[1;32m    160\u001b[0m \u001b[39mif\u001b[39;00m resp[\u001b[39m\"\u001b[39m\u001b[39mtype\u001b[39m\u001b[39m\"\u001b[39m] \u001b[39m==\u001b[39m \u001b[39m\"\u001b[39m\u001b[39mgenerate\u001b[39m\u001b[39m\"\u001b[39m:\n\u001b[1;32m    161\u001b[0m     \u001b[39mif\u001b[39;00m \u001b[39m\"\u001b[39m\u001b[39mexception\u001b[39m\u001b[39m\"\u001b[39m \u001b[39min\u001b[39;00m resp:\n\u001b[0;32m--> 162\u001b[0m         \u001b[39mraise\u001b[39;00m resp[\u001b[39m\"\u001b[39m\u001b[39mexception\u001b[39m\u001b[39m\"\u001b[39m]\n\u001b[1;32m    164\u001b[0m     \u001b[39mself\u001b[39m\u001b[39m.\u001b[39m_ready \u001b[39m=\u001b[39m \u001b[39mTrue\u001b[39;00m\n\u001b[1;32m    165\u001b[0m     \u001b[39mreturn\u001b[39;00m resp[\u001b[39m\"\u001b[39m\u001b[39mdata\u001b[39m\u001b[39m\"\u001b[39m]\n",
      "File \u001b[0;32m/opt/homebrew/anaconda3/envs/LLM/lib/python3.10/site-packages/predibase/resources/deployments.py:142\u001b[0m, in \u001b[0;36m_make_generate.<locals>._lorax_generate.<locals>._generate_thread\u001b[0;34m(q)\u001b[0m\n\u001b[1;32m    140\u001b[0m \u001b[39mdef\u001b[39;00m \u001b[39m_generate_thread\u001b[39m(q: queue\u001b[39m.\u001b[39mQueue):\n\u001b[1;32m    141\u001b[0m     \u001b[39mtry\u001b[39;00m:\n\u001b[0;32m--> 142\u001b[0m         q\u001b[39m.\u001b[39mput_nowait({\u001b[39m\"\u001b[39m\u001b[39mtype\u001b[39m\u001b[39m\"\u001b[39m: \u001b[39m\"\u001b[39m\u001b[39mgenerate\u001b[39m\u001b[39m\"\u001b[39m, \u001b[39m\"\u001b[39m\u001b[39mdata\u001b[39m\u001b[39m\"\u001b[39m: \u001b[39mself\u001b[39;49m\u001b[39m.\u001b[39;49m_generate(\u001b[39m*\u001b[39;49margs, \u001b[39m*\u001b[39;49m\u001b[39m*\u001b[39;49mkwargs)})\n\u001b[1;32m    143\u001b[0m     \u001b[39mexcept\u001b[39;00m \u001b[39mException\u001b[39;00m \u001b[39mas\u001b[39;00m e:\n\u001b[1;32m    144\u001b[0m         q\u001b[39m.\u001b[39mput_nowait({\u001b[39m\"\u001b[39m\u001b[39mtype\u001b[39m\u001b[39m\"\u001b[39m: \u001b[39m\"\u001b[39m\u001b[39mgenerate\u001b[39m\u001b[39m\"\u001b[39m, \u001b[39m\"\u001b[39m\u001b[39mexception\u001b[39m\u001b[39m\"\u001b[39m: e})\n",
      "File \u001b[0;32m/opt/homebrew/anaconda3/envs/LLM/lib/python3.10/site-packages/lorax/client.py:277\u001b[0m, in \u001b[0;36mClient.generate\u001b[0;34m(self, prompt, adapter_id, adapter_source, merged_adapters, api_token, do_sample, max_new_tokens, ignore_eos_token, best_of, repetition_penalty, return_full_text, seed, stop_sequences, temperature, top_k, top_p, truncate, typical_p, watermark, response_format, decoder_input_details, return_k_alternatives, details)\u001b[0m\n\u001b[1;32m    274\u001b[0m     payload \u001b[39m=\u001b[39m {\u001b[39m\"\u001b[39m\u001b[39mmessage\u001b[39m\u001b[39m\"\u001b[39m: e\u001b[39m.\u001b[39mmsg}\n\u001b[1;32m    276\u001b[0m \u001b[39mif\u001b[39;00m resp\u001b[39m.\u001b[39mstatus_code \u001b[39m!=\u001b[39m \u001b[39m200\u001b[39m:\n\u001b[0;32m--> 277\u001b[0m     \u001b[39mraise\u001b[39;00m parse_error(resp\u001b[39m.\u001b[39mstatus_code, payload, resp\u001b[39m.\u001b[39mheaders \u001b[39mif\u001b[39;00m LORAX_DEBUG_MODE \u001b[39melse\u001b[39;00m \u001b[39mNone\u001b[39;00m)\n\u001b[1;32m    279\u001b[0m \u001b[39mreturn\u001b[39;00m Response(\u001b[39m*\u001b[39m\u001b[39m*\u001b[39mpayload[\u001b[39m0\u001b[39m])\n",
      "\u001b[0;31mNotFoundError\u001b[0m: "
     ]
    }
   ],
   "source": [
    "# Specify the deployment by name\n",
    "lorax_client = pb.deployments.client(\"medicine_suggest-model\")\n",
    "print(lorax_client.generate(\"\"\"<<SYS>>You are a helpful, respectful and honest assistant. Always answer as helpfully as possible, while being safe. Your answers should not include any harmful, unethical, racist, sexist, toxic, dangerous, or illegal content. Please ensure that your responses are socially unbiased and positive in nature. If a question does not make any sense, or is not factually coherent, explain why instead of answering something not correct. If you don't know the answer to a question, please don't share false information.<</SYS>>\n",
    "\n",
    "[INST] 벤포벨에스정의 효능은 무엇입니까? [/INST]\"\"\", max_new_tokens=100).generated_text)"
   ]
  },
  {
   "cell_type": "code",
   "execution_count": null,
   "metadata": {},
   "outputs": [],
   "source": []
  }
 ],
 "metadata": {
  "kernelspec": {
   "display_name": "LLM",
   "language": "python",
   "name": "python3"
  },
  "language_info": {
   "codemirror_mode": {
    "name": "ipython",
    "version": 3
   },
   "file_extension": ".py",
   "mimetype": "text/x-python",
   "name": "python",
   "nbconvert_exporter": "python",
   "pygments_lexer": "ipython3",
   "version": "3.10.0"
  },
  "orig_nbformat": 4
 },
 "nbformat": 4,
 "nbformat_minor": 2
}
