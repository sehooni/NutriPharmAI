{
 "cells": [
  {
   "cell_type": "code",
   "execution_count": 1,
   "metadata": {},
   "outputs": [
    {
     "ename": "TypeError",
     "evalue": "ForwardRef.__init__() got an unexpected keyword argument 'is_class'",
     "output_type": "error",
     "traceback": [
      "\u001b[0;31m---------------------------------------------------------------------------\u001b[0m",
      "\u001b[0;31mTypeError\u001b[0m                                 Traceback (most recent call last)",
      "Cell \u001b[0;32mIn[1], line 1\u001b[0m\n\u001b[0;32m----> 1\u001b[0m \u001b[39mfrom\u001b[39;00m \u001b[39mpredibase\u001b[39;00m \u001b[39mimport\u001b[39;00m Predibase, FinetuningConfig, DeploymentConfig\n\u001b[1;32m      3\u001b[0m pb \u001b[39m=\u001b[39m Predibase(api_token\u001b[39m=\u001b[39m\u001b[39m\"\u001b[39m\u001b[39mpb_zv5LwuUnUo-HWKlWLMtQCA\u001b[39m\u001b[39m\"\u001b[39m)\n\u001b[1;32m      4\u001b[0m \u001b[39m# https://app.predibase.com/\u001b[39;00m\n",
      "File \u001b[0;32m/opt/homebrew/anaconda3/envs/LLM/lib/python3.10/site-packages/predibase/__init__.py:4\u001b[0m\n\u001b[1;32m      1\u001b[0m \u001b[39mimport\u001b[39;00m \u001b[39mlogging\u001b[39;00m\n\u001b[1;32m      2\u001b[0m \u001b[39mimport\u001b[39;00m \u001b[39mos\u001b[39;00m\n\u001b[0;32m----> 4\u001b[0m \u001b[39mfrom\u001b[39;00m \u001b[39m.\u001b[39;00m\u001b[39m_client\u001b[39;00m \u001b[39mimport\u001b[39;00m Predibase\n\u001b[1;32m      5\u001b[0m \u001b[39mfrom\u001b[39;00m \u001b[39m.\u001b[39;00m\u001b[39mclient\u001b[39;00m \u001b[39mimport\u001b[39;00m PredibaseClient\n\u001b[1;32m      6\u001b[0m \u001b[39mfrom\u001b[39;00m \u001b[39m.\u001b[39;00m\u001b[39mconfig\u001b[39;00m \u001b[39mimport\u001b[39;00m AugmentationConfig, DeploymentConfig, FinetuningConfig\n",
      "File \u001b[0;32m/opt/homebrew/anaconda3/envs/LLM/lib/python3.10/site-packages/predibase/_client.py:17\u001b[0m\n\u001b[1;32m     15\u001b[0m \u001b[39mfrom\u001b[39;00m \u001b[39mpredibase\u001b[39;00m\u001b[39m.\u001b[39;00m\u001b[39mpql\u001b[39;00m \u001b[39mimport\u001b[39;00m start_session, get_session\n\u001b[1;32m     16\u001b[0m \u001b[39mfrom\u001b[39;00m \u001b[39mpredibase\u001b[39;00m\u001b[39m.\u001b[39;00m\u001b[39mpql\u001b[39;00m\u001b[39m.\u001b[39;00m\u001b[39madapter\u001b[39;00m \u001b[39mimport\u001b[39;00m TimeoutHTTPAdapter\n\u001b[0;32m---> 17\u001b[0m \u001b[39mfrom\u001b[39;00m \u001b[39mpredibase\u001b[39;00m\u001b[39m.\u001b[39;00m\u001b[39mresources\u001b[39;00m\u001b[39m.\u001b[39;00m\u001b[39madapters\u001b[39;00m \u001b[39mimport\u001b[39;00m Adapters\n\u001b[1;32m     19\u001b[0m \u001b[39m# from predibase.resources.completions import Completions\u001b[39;00m\n\u001b[1;32m     20\u001b[0m \u001b[39mfrom\u001b[39;00m \u001b[39mpredibase\u001b[39;00m\u001b[39m.\u001b[39;00m\u001b[39mresources\u001b[39;00m\u001b[39m.\u001b[39;00m\u001b[39mdatasets\u001b[39;00m \u001b[39mimport\u001b[39;00m Datasets\n",
      "File \u001b[0;32m/opt/homebrew/anaconda3/envs/LLM/lib/python3.10/site-packages/predibase/resources/adapters.py:11\u001b[0m\n\u001b[1;32m      8\u001b[0m \u001b[39mfrom\u001b[39;00m \u001b[39mpydantic\u001b[39;00m \u001b[39mimport\u001b[39;00m BaseModel, Field, field_validator\n\u001b[1;32m     10\u001b[0m \u001b[39mfrom\u001b[39;00m \u001b[39mpredibase\u001b[39;00m\u001b[39m.\u001b[39;00m\u001b[39m_errors\u001b[39;00m \u001b[39mimport\u001b[39;00m FinetuningError\n\u001b[0;32m---> 11\u001b[0m \u001b[39mfrom\u001b[39;00m \u001b[39mpredibase\u001b[39;00m\u001b[39m.\u001b[39;00m\u001b[39mconfig\u001b[39;00m \u001b[39mimport\u001b[39;00m FinetuningConfig\n\u001b[1;32m     12\u001b[0m \u001b[39mfrom\u001b[39;00m \u001b[39mpredibase\u001b[39;00m\u001b[39m.\u001b[39;00m\u001b[39mresources\u001b[39;00m\u001b[39m.\u001b[39;00m\u001b[39madapter\u001b[39;00m \u001b[39mimport\u001b[39;00m Adapter\n\u001b[1;32m     13\u001b[0m \u001b[39mfrom\u001b[39;00m \u001b[39mpredibase\u001b[39;00m\u001b[39m.\u001b[39;00m\u001b[39mresources\u001b[39;00m\u001b[39m.\u001b[39;00m\u001b[39mdataset\u001b[39;00m \u001b[39mimport\u001b[39;00m Dataset\n",
      "File \u001b[0;32m/opt/homebrew/anaconda3/envs/LLM/lib/python3.10/site-packages/predibase/config.py:6\u001b[0m\n\u001b[1;32m      1\u001b[0m \u001b[39mfrom\u001b[39;00m \u001b[39m__future__\u001b[39;00m \u001b[39mimport\u001b[39;00m annotations\n\u001b[1;32m      3\u001b[0m \u001b[39mfrom\u001b[39;00m \u001b[39mpydantic\u001b[39;00m \u001b[39mimport\u001b[39;00m BaseModel, Field, field_validator, NonNegativeInt, PositiveFloat, PositiveInt\n\u001b[0;32m----> 6\u001b[0m \u001b[39mclass\u001b[39;00m \u001b[39mFinetuningConfig\u001b[39;00m(BaseModel):\n\u001b[1;32m      7\u001b[0m     base_model: \u001b[39mstr\u001b[39m\n\u001b[1;32m      8\u001b[0m     adapter: \u001b[39mstr\u001b[39m \u001b[39m=\u001b[39m Field(default\u001b[39m=\u001b[39m\u001b[39m\"\u001b[39m\u001b[39mlora\u001b[39m\u001b[39m\"\u001b[39m)\n",
      "File \u001b[0;32m/opt/homebrew/anaconda3/envs/LLM/lib/python3.10/site-packages/pydantic/_internal/_model_construction.py:173\u001b[0m, in \u001b[0;36mModelMetaclass.__new__\u001b[0;34m(mcs, cls_name, bases, namespace, __pydantic_generic_metadata__, __pydantic_reset_parent_namespace__, **kwargs)\u001b[0m\n\u001b[1;32m    170\u001b[0m parent_namespace \u001b[39m=\u001b[39m \u001b[39mgetattr\u001b[39m(\u001b[39mcls\u001b[39m, \u001b[39m'\u001b[39m\u001b[39m__pydantic_parent_namespace__\u001b[39m\u001b[39m'\u001b[39m, \u001b[39mNone\u001b[39;00m)\n\u001b[1;32m    172\u001b[0m types_namespace \u001b[39m=\u001b[39m get_cls_types_namespace(\u001b[39mcls\u001b[39m, parent_namespace)\n\u001b[0;32m--> 173\u001b[0m set_model_fields(\u001b[39mcls\u001b[39;49m, bases, config_wrapper, types_namespace)\n\u001b[1;32m    174\u001b[0m complete_model_class(\n\u001b[1;32m    175\u001b[0m     \u001b[39mcls\u001b[39m,\n\u001b[1;32m    176\u001b[0m     cls_name,\n\u001b[0;32m   (...)\u001b[0m\n\u001b[1;32m    179\u001b[0m     types_namespace\u001b[39m=\u001b[39mtypes_namespace,\n\u001b[1;32m    180\u001b[0m )\n\u001b[1;32m    181\u001b[0m \u001b[39m# using super(cls, cls) on the next line ensures we only call the parent class's __pydantic_init_subclass__\u001b[39;00m\n\u001b[1;32m    182\u001b[0m \u001b[39m# I believe the `type: ignore` is only necessary because mypy doesn't realize that this code branch is\u001b[39;00m\n\u001b[1;32m    183\u001b[0m \u001b[39m# only hit for _proper_ subclasses of BaseModel\u001b[39;00m\n",
      "File \u001b[0;32m/opt/homebrew/anaconda3/envs/LLM/lib/python3.10/site-packages/pydantic/_internal/_model_construction.py:372\u001b[0m, in \u001b[0;36mset_model_fields\u001b[0;34m(cls, bases, config_wrapper, types_namespace)\u001b[0m\n\u001b[1;32m    363\u001b[0m \u001b[39m\u001b[39m\u001b[39m\"\"\"Collect and set `cls.model_fields` and `cls.__class_vars__`.\u001b[39;00m\n\u001b[1;32m    364\u001b[0m \n\u001b[1;32m    365\u001b[0m \u001b[39mArgs:\u001b[39;00m\n\u001b[0;32m   (...)\u001b[0m\n\u001b[1;32m    369\u001b[0m \u001b[39m    types_namespace: Optional extra namespace to look for types in.\u001b[39;00m\n\u001b[1;32m    370\u001b[0m \u001b[39m\"\"\"\u001b[39;00m\n\u001b[1;32m    371\u001b[0m typevars_map \u001b[39m=\u001b[39m get_model_typevars_map(\u001b[39mcls\u001b[39m)\n\u001b[0;32m--> 372\u001b[0m fields, class_vars \u001b[39m=\u001b[39m collect_model_fields(\u001b[39mcls\u001b[39;49m, bases, config_wrapper, types_namespace, typevars_map\u001b[39m=\u001b[39;49mtypevars_map)\n\u001b[1;32m    374\u001b[0m \u001b[39mcls\u001b[39m\u001b[39m.\u001b[39mmodel_fields \u001b[39m=\u001b[39m fields\n\u001b[1;32m    375\u001b[0m \u001b[39mcls\u001b[39m\u001b[39m.\u001b[39m__class_vars__\u001b[39m.\u001b[39mupdate(class_vars)\n",
      "File \u001b[0;32m/opt/homebrew/anaconda3/envs/LLM/lib/python3.10/site-packages/pydantic/_internal/_fields.py:97\u001b[0m, in \u001b[0;36mcollect_model_fields\u001b[0;34m(cls, bases, config_wrapper, types_namespace, typevars_map)\u001b[0m\n\u001b[1;32m     73\u001b[0m \u001b[39m\u001b[39m\u001b[39m\"\"\"Collect the fields of a nascent pydantic model.\u001b[39;00m\n\u001b[1;32m     74\u001b[0m \n\u001b[1;32m     75\u001b[0m \u001b[39mAlso collect the names of any ClassVars present in the type hints.\u001b[39;00m\n\u001b[0;32m   (...)\u001b[0m\n\u001b[1;32m     93\u001b[0m \u001b[39m        - If a field shadows an attribute in the parent model.\u001b[39;00m\n\u001b[1;32m     94\u001b[0m \u001b[39m\"\"\"\u001b[39;00m\n\u001b[1;32m     95\u001b[0m \u001b[39mfrom\u001b[39;00m \u001b[39m.\u001b[39;00m\u001b[39m.\u001b[39;00m\u001b[39mfields\u001b[39;00m \u001b[39mimport\u001b[39;00m FieldInfo\n\u001b[0;32m---> 97\u001b[0m type_hints \u001b[39m=\u001b[39m get_cls_type_hints_lenient(\u001b[39mcls\u001b[39;49m, types_namespace)\n\u001b[1;32m     99\u001b[0m \u001b[39m# https://docs.python.org/3/howto/annotations.html#accessing-the-annotations-dict-of-an-object-in-python-3-9-and-older\u001b[39;00m\n\u001b[1;32m    100\u001b[0m \u001b[39m# annotations is only used for finding fields in parent classes\u001b[39;00m\n\u001b[1;32m    101\u001b[0m annotations \u001b[39m=\u001b[39m \u001b[39mcls\u001b[39m\u001b[39m.\u001b[39m\u001b[39m__dict__\u001b[39m\u001b[39m.\u001b[39mget(\u001b[39m'\u001b[39m\u001b[39m__annotations__\u001b[39m\u001b[39m'\u001b[39m, {})\n",
      "File \u001b[0;32m/opt/homebrew/anaconda3/envs/LLM/lib/python3.10/site-packages/pydantic/_internal/_typing_extra.py:212\u001b[0m, in \u001b[0;36mget_cls_type_hints_lenient\u001b[0;34m(obj, globalns)\u001b[0m\n\u001b[1;32m    210\u001b[0m     \u001b[39mif\u001b[39;00m ann \u001b[39mis\u001b[39;00m \u001b[39mnot\u001b[39;00m \u001b[39mNone\u001b[39;00m \u001b[39mand\u001b[39;00m ann \u001b[39mis\u001b[39;00m \u001b[39mnot\u001b[39;00m GetSetDescriptorType:\n\u001b[1;32m    211\u001b[0m         \u001b[39mfor\u001b[39;00m name, value \u001b[39min\u001b[39;00m ann\u001b[39m.\u001b[39mitems():\n\u001b[0;32m--> 212\u001b[0m             hints[name] \u001b[39m=\u001b[39m eval_type_lenient(value, globalns, localns)\n\u001b[1;32m    213\u001b[0m \u001b[39mreturn\u001b[39;00m hints\n",
      "File \u001b[0;32m/opt/homebrew/anaconda3/envs/LLM/lib/python3.10/site-packages/pydantic/_internal/_typing_extra.py:221\u001b[0m, in \u001b[0;36meval_type_lenient\u001b[0;34m(value, globalns, localns)\u001b[0m\n\u001b[1;32m    219\u001b[0m     value \u001b[39m=\u001b[39m NoneType\n\u001b[1;32m    220\u001b[0m \u001b[39melif\u001b[39;00m \u001b[39misinstance\u001b[39m(value, \u001b[39mstr\u001b[39m):\n\u001b[0;32m--> 221\u001b[0m     value \u001b[39m=\u001b[39m _make_forward_ref(value, is_argument\u001b[39m=\u001b[39;49m\u001b[39mFalse\u001b[39;49;00m, is_class\u001b[39m=\u001b[39;49m\u001b[39mTrue\u001b[39;49;00m)\n\u001b[1;32m    223\u001b[0m \u001b[39mtry\u001b[39;00m:\n\u001b[1;32m    224\u001b[0m     \u001b[39mreturn\u001b[39;00m typing\u001b[39m.\u001b[39m_eval_type(value, globalns, localns)  \u001b[39m# type: ignore\u001b[39;00m\n",
      "\u001b[0;31mTypeError\u001b[0m: ForwardRef.__init__() got an unexpected keyword argument 'is_class'"
     ]
    }
   ],
   "source": [
    "from predibase import Predibase, FinetuningConfig, DeploymentConfig\n",
    "\n",
    "pb = Predibase(api_token=\"...\")\n",
    "# https://app.predibase.com/"
   ]
  },
  {
   "cell_type": "code",
   "execution_count": null,
   "metadata": {},
   "outputs": [],
   "source": [
    "# # dataset upload\n",
    "# dataset = pb.datasets.from_file(\"./dataset/dataset.jsonl\", name=\"medicine_dataset\")\n",
    "\n",
    "# using exist dataset\n",
    "dataset = pb.datasets.get('medicine_dataset')"
   ]
  },
  {
   "cell_type": "code",
   "execution_count": null,
   "metadata": {},
   "outputs": [],
   "source": [
    "# Create an adapter repository\n",
    "repo = pb.repos.create(name=\"medicine_suggest-model\", description=\"medicine suggetion chatbot\", exists_ok=True)\n",
    "\n",
    "# Start a fine-tuning job, blocks until training is finished\n",
    "adapter = pb.adapters.create(\n",
    "    config=FinetuningConfig(\n",
    "        base_model=\"solar-1-mini-chat-240612\"\n",
    "    ),\n",
    "    dataset=dataset, # Also accepts the dataset name as a string\n",
    "    repo=repo,\n",
    "    description=\"initial model with defaults\"\n",
    ")"
   ]
  },
  {
   "cell_type": "code",
   "execution_count": null,
   "metadata": {},
   "outputs": [],
   "source": [
    "# Get adapter, blocking call if training is still in progress\n",
    "adapter = pb.adapters.get(\"medicine_suggest-model/1\")\n",
    "adapter"
   ]
  },
  {
   "cell_type": "code",
   "execution_count": null,
   "metadata": {},
   "outputs": [],
   "source": []
  }
 ],
 "metadata": {
  "kernelspec": {
   "display_name": "LLM",
   "language": "python",
   "name": "python3"
  },
  "language_info": {
   "codemirror_mode": {
    "name": "ipython",
    "version": 3
   },
   "file_extension": ".py",
   "mimetype": "text/x-python",
   "name": "python",
   "nbconvert_exporter": "python",
   "pygments_lexer": "ipython3",
   "version": "3.10.0"
  },
  "orig_nbformat": 4
 },
 "nbformat": 4,
 "nbformat_minor": 2
}
