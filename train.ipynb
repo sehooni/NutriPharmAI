{
 "cells": [
  {
   "cell_type": "code",
   "execution_count": null,
   "metadata": {},
   "outputs": [],
   "source": [
    "from predibase import Predibase, FinetuningConfig, DeploymentConfig\n",
    "\n",
    "pb = Predibase(api_token=\"각자 API입력\")\n",
    "# https://app.predibase.com/"
   ]
  },
  {
   "cell_type": "code",
   "execution_count": null,
   "metadata": {},
   "outputs": [],
   "source": [
    "# # dataset upload\n",
    "# dataset = pb.datasets.from_file(\"./dataset/dataset.jsonl\", name=\"medicine_dataset\")\n",
    "\n",
    "# using exist dataset\n",
    "dataset = pb.datasets.get('medicine_dataset')"
   ]
  },
  {
   "cell_type": "code",
   "execution_count": null,
   "metadata": {},
   "outputs": [],
   "source": [
    "# Create an adapter repository\n",
    "repo = pb.repos.create(name=\"medicine_suggest-model\", description=\"medicine suggetion chatbot\", exists_ok=True)\n",
    "\n",
    "# Start a fine-tuning job, blocks until training is finished\n",
    "adapter = pb.adapters.create(\n",
    "    config=FinetuningConfig(\n",
    "        base_model=\"solar-1-mini-chat-240612\"\n",
    "    ),\n",
    "    dataset=dataset, # Also accepts the dataset name as a string\n",
    "    repo=repo,\n",
    "    description=\"initial model with defaults\"\n",
    ")"
   ]
  },
  {
   "cell_type": "code",
   "execution_count": null,
   "metadata": {},
   "outputs": [],
   "source": [
    "# Get adapter, blocking call if training is still in progress\n",
    "adapter = pb.adapters.get(\"medicine_suggest-model/1\")\n",
    "adapter"
   ]
  },
  {
   "cell_type": "code",
   "execution_count": null,
   "metadata": {},
   "outputs": [],
   "source": []
  }
 ],
 "metadata": {
  "kernelspec": {
   "display_name": "LLM",
   "language": "python",
   "name": "python3"
  },
  "language_info": {
   "codemirror_mode": {
    "name": "ipython",
    "version": 3
   },
   "file_extension": ".py",
   "mimetype": "text/x-python",
   "name": "python",
   "nbconvert_exporter": "python",
   "pygments_lexer": "ipython3",
   "version": "3.10.0"
  },
  "orig_nbformat": 4
 },
 "nbformat": 4,
 "nbformat_minor": 2
}
