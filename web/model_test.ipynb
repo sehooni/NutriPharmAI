{
 "cells": [
  {
   "cell_type": "code",
   "execution_count": 1,
   "metadata": {},
   "outputs": [
    {
     "name": "stderr",
     "output_type": "stream",
     "text": [
      "/opt/homebrew/anaconda3/envs/AIMedicine/lib/python3.10/site-packages/tqdm/auto.py:21: TqdmWarning: IProgress not found. Please update jupyter and ipywidgets. See https://ipywidgets.readthedocs.io/en/stable/user_install.html\n",
      "  from .autonotebook import tqdm as notebook_tqdm\n",
      "None of PyTorch, TensorFlow >= 2.0, or Flax have been found. Models won't be available and only tokenizers, configuration and file/data utilities can be used.\n"
     ]
    },
    {
     "data": {
      "text/html": [
       "<pre style=\"white-space:pre;overflow-x:auto;line-height:normal;font-family:Menlo,'DejaVu Sans Mono',consolas,'Courier New',monospace\"><span style=\"color: #000080; text-decoration-color: #000080; font-weight: bold\">Connected to Predibase as </span><span style=\"color: #800080; text-decoration-color: #800080; font-weight: bold\">User</span><span style=\"color: #000080; text-decoration-color: #000080; font-weight: bold\">(</span><span style=\"color: #808000; text-decoration-color: #808000; font-weight: bold\">id</span><span style=\"color: #000080; text-decoration-color: #000080; font-weight: bold\">=</span><span style=\"color: #ffff00; text-decoration-color: #ffff00\">b5555c02</span><span style=\"color: #ffff00; text-decoration-color: #ffff00\">-4e64-48dd-b993-2f03a91a605d</span><span style=\"color: #000080; text-decoration-color: #000080; font-weight: bold\">, </span><span style=\"color: #808000; text-decoration-color: #808000; font-weight: bold\">username</span><span style=\"color: #000080; text-decoration-color: #000080; font-weight: bold\">=</span><span style=\"color: #800080; text-decoration-color: #800080; font-weight: bold\">sehoonpark</span><span style=\"color: #000080; text-decoration-color: #000080; font-weight: bold\">@hanyang.ac.kr)</span>\n",
       "</pre>\n"
      ],
      "text/plain": [
       "\u001b[1;34mConnected to Predibase as \u001b[0m\u001b[1;35mUser\u001b[0m\u001b[1;34m(\u001b[0m\u001b[1;33mid\u001b[0m\u001b[1;34m=\u001b[0m\u001b[93mb5555c02\u001b[0m\u001b[93m-4e64-48dd-b993-2f03a91a605d\u001b[0m\u001b[1;34m, \u001b[0m\u001b[1;33musername\u001b[0m\u001b[1;34m=\u001b[0m\u001b[1;35msehoonpark\u001b[0m\u001b[1;34m@hanyang.ac.kr\u001b[0m\u001b[1;34m)\u001b[0m\n"
      ]
     },
     "metadata": {},
     "output_type": "display_data"
    }
   ],
   "source": [
    "import gradio as gr\n",
    "from predibase import Predibase, FinetuningConfig, DeploymentConfig\n",
    "\n",
    "pb = Predibase(api_token=\"...\")\n",
    "\n"
   ]
  },
  {
   "cell_type": "code",
   "execution_count": 2,
   "metadata": {},
   "outputs": [],
   "source": [
    "def sentence_builder(sex, age, pill, component, quest):\n",
    "    input_prompt = f\"저의 성별은 {sex}, 나이는 {age}입니다.\\n 제가 지금 먹고 있는 영양제 제품들은 {pill}이고,\\n각 영양제의 성분은 {component}입니다.\\n {quest}\"\n",
    "    return input_prompt\n",
    "\n",
    "def call_model(input_prompt):\n",
    "    lorax_client = pb.deployments.client(\"solar-1-mini-chat-240612\")\n",
    "    output = lorax_client.generate(input_prompt, adapter_id=\"medicine_suggest_model/1\", max_new_tokens=100).generated_text\n",
    "    return output"
   ]
  },
  {
   "cell_type": "code",
   "execution_count": 3,
   "metadata": {},
   "outputs": [
    {
     "data": {
      "text/plain": [
       "'저의 성별은 남성, 나이는 어린이 (3~8세)입니다.\\n 제가 지금 먹고 있는 영양제 제품들은 락토핏이고,\\n각 영양제의 성분은 비타민B1: 0.6, 비타민B2: 0.7, 나이아신 (비타민B3): 7.5, 판토텐산 (비타민B5): 2.5, 비타민B6: 0.75, 비오틴 (비타민B7): 15.0, 엽산 (비타민B9): 200.0, 아연: 4.25, 셀레늄: 27.5, 크롬: 15.0, 코엔자임Q10: 100.0 입니다.\\n 이렇게 영양제를 복용한다면 어떤 성분이 일일 상한섭취량을 초과하나요?'"
      ]
     },
     "execution_count": 3,
     "metadata": {},
     "output_type": "execute_result"
    }
   ],
   "source": [
    "sex = '남성'\n",
    "age = '어린이 (3~8세)'\n",
    "pill = '락토핏'\n",
    "chat = '이렇게 영양제를 복용한다면 어떤 성분이 일일 상한섭취량을 초과하나요?'\n",
    "comp = '비타민B1: 0.6, 비타민B2: 0.7, 나이아신 (비타민B3): 7.5, 판토텐산 (비타민B5): 2.5, 비타민B6: 0.75, 비오틴 (비타민B7): 15.0, 엽산 (비타민B9): 200.0, 아연: 4.25, 셀레늄: 27.5, 크롬: 15.0, 코엔자임Q10: 100.0 '\n",
    "prompt = sentence_builder(sex, age, pill, comp, chat)\n",
    "prompt"
   ]
  },
  {
   "cell_type": "code",
   "execution_count": 4,
   "metadata": {},
   "outputs": [
    {
     "data": {
      "text/plain": [
       "'\\n 어린이의 경우, 각 영양소의 일일 상한섭취량은 성인과 다를 수 있습니다. \\n\\n### 락토핏 영양제 성분 분석\\n\\n1. **비타민 B1 (티아민)**\\n   - 권장 섭취량 (RDA): 0.5 mg (3-8세)\\n   - 상한 섭취량 (UL): 설정되지 않음\\n   - 섭취량: 0.6 mg\\n   - **초과 없음**\\n\\n'"
      ]
     },
     "execution_count": 4,
     "metadata": {},
     "output_type": "execute_result"
    }
   ],
   "source": [
    "call_model(prompt)"
   ]
  },
  {
   "cell_type": "code",
   "execution_count": null,
   "metadata": {},
   "outputs": [],
   "source": []
  }
 ],
 "metadata": {
  "kernelspec": {
   "display_name": "gradio",
   "language": "python",
   "name": "python3"
  },
  "language_info": {
   "codemirror_mode": {
    "name": "ipython",
    "version": 3
   },
   "file_extension": ".py",
   "mimetype": "text/x-python",
   "name": "python",
   "nbconvert_exporter": "python",
   "pygments_lexer": "ipython3",
   "version": "3.10.14"
  },
  "orig_nbformat": 4
 },
 "nbformat": 4,
 "nbformat_minor": 2
}
