{
 "cells": [
  {
   "cell_type": "code",
   "execution_count": 1,
   "metadata": {},
   "outputs": [],
   "source": [
    "from predibase import Predibase, FinetuningConfig, DeploymentConfig"
   ]
  },
  {
   "cell_type": "code",
   "execution_count": 2,
   "metadata": {},
   "outputs": [
    {
     "name": "stderr",
     "output_type": "stream",
     "text": [
      "\u001b[1;34mConnected to Predibase as \u001b[0m\u001b[1;35mUser\u001b[0m\u001b[1;34m(\u001b[0m\u001b[1;33mid\u001b[0m\u001b[1;34m=\u001b[0m\u001b[93mdc1fafa1\u001b[0m\u001b[93m-6a7b-4a28-8918-c872f9e65731\u001b[0m\u001b[1;34m, \u001b[0m\n",
      "\u001b[1;33musername\u001b[0m\u001b[1;34m=\u001b[0m\u001b[1;35mguswns0929\u001b[0m\u001b[1;34m@hanyang.ac.kr\u001b[0m\u001b[1;34m)\u001b[0m\n"
     ]
    }
   ],
   "source": [
    "pb = Predibase(api_token='...')"
   ]
  },
  {
   "cell_type": "code",
   "execution_count": 3,
   "metadata": {},
   "outputs": [],
   "source": [
    "def response(message): \n",
    "    lorax_client = pb.deployments.client(\"solar-1-mini-chat-240612\")\n",
    "    \n",
    "    chat_response = lorax_client.generate(message, adapter_id=\"medicine_suggest_model/1\", max_new_tokens=10000).generated_text\n",
    "    return chat_response"
   ]
  },
  {
   "cell_type": "code",
   "execution_count": 3,
   "metadata": {},
   "outputs": [],
   "source": [
    "def response(message): \n",
    "    lorax_client = pb.deployments.client(\"solar-1-mini-chat-240612\")\n",
    "    \n",
    "    chat_response = lorax_client.generate(message, max_new_tokens=10000).generated_text\n",
    "    return chat_response"
   ]
  },
  {
   "cell_type": "code",
   "execution_count": 4,
   "metadata": {},
   "outputs": [],
   "source": [
    "response(\"지금 타이레놀, 밀크씨슬을 복용하고 있어. 같이 복용해도 될까?\")"
   ]
  },
  {
   "cell_type": "code",
   "execution_count": null,
   "metadata": {},
   "outputs": [],
   "source": []
  }
 ],
 "metadata": {
  "kernelspec": {
   "display_name": "AIMedicine",
   "language": "python",
   "name": "python3"
  },
  "language_info": {
   "codemirror_mode": {
    "name": "ipython",
    "version": 3
   },
   "file_extension": ".py",
   "mimetype": "text/x-python",
   "name": "python",
   "nbconvert_exporter": "python",
   "pygments_lexer": "ipython3",
   "version": "3.10.14"
  },
  "orig_nbformat": 4
 },
 "nbformat": 4,
 "nbformat_minor": 2
}
